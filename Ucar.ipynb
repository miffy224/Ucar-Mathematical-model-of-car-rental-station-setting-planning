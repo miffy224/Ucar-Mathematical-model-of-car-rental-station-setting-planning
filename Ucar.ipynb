{
 "cells": [
  {
   "cell_type": "code",
   "execution_count": 1,
   "metadata": {},
   "outputs": [],
   "source": [
    "from gurobipy import*\n",
    "import pandas as pd\n",
    "import numpy as np\n",
    "import math\n",
    "import csv\n",
    "\n",
    "#y = ty * 0.00000899823754\n",
    "#x = 121 + (tx - 250000) * 0.000008983152841195214 / math.cos(math.radians(y))"
   ]
  },
  {
   "cell_type": "code",
   "execution_count": null,
   "metadata": {},
   "outputs": [],
   "source": []
  },
  {
   "cell_type": "markdown",
   "metadata": {},
   "source": [
    "# Setting"
   ]
  },
  {
   "cell_type": "code",
   "execution_count": 2,
   "metadata": {},
   "outputs": [],
   "source": [
    "r= 500\n",
    "#r=500m\n",
    "n=156 #取幾個景點\n",
    "\n",
    "data_A = pd.read_csv('site_twd97.csv');\n",
    "data_S = pd.read_csv('PSO_twd97.csv');\n",
    "\n",
    "\n",
    "weight = list(data_A['weight']);\n",
    "\n",
    "#for i in range(0,len(data_A['經緯'])):\n",
    "#    data_A['經緯'][i] = eval(data_A['經緯'][i])\n",
    "\n",
    "\n",
    "#A景點\n",
    "#S候選點\n",
    "\n",
    "A=[]\n",
    "for i in range(0,len(data_A)):\n",
    "    A.append((data_A['TWD97 TM2 經'][i],data_A['TWD97 TM2 緯'][i]))\n",
    "\n",
    "#S = [(22.98497, 120.19106),(22.987000, 120.204510),(22.981255, 120.205152),(22.98387, 120.20839),(22.98687, 120.20762),(22.99092, 120.20267),(22.99086, 120.2047),(22.98816, 120.20959),(22.99682, 120.20105),(22.99836, 120.20262),(23.00223, 120.16108),(23.00112, 120.16053),(22.99472, 120.20513),(22.98939, 120.19775),(22.98796, 120.20642),(22.98425, 120.20651)]\n",
    "\n",
    "\n",
    "S = []\n",
    "#for i in range(0,len(data_S)):    \n",
    "#    tx=data_S['x'][i]\n",
    "#    ty=data_S['y'][i]\n",
    "#    y = ty * 0.00000899823754\n",
    "#    x = 121 + (tx - 250000) * 0.000008983152841195214 / math.cos(math.radians(y))\n",
    "for i in range(0,len(data_S)):\n",
    "    S.append((data_S['x'][i],data_S['y'][i]))\n",
    "\n"
   ]
  },
  {
   "cell_type": "code",
   "execution_count": null,
   "metadata": {},
   "outputs": [],
   "source": []
  },
  {
   "cell_type": "code",
   "execution_count": 3,
   "metadata": {},
   "outputs": [
    {
     "data": {
      "text/plain": [
       "100"
      ]
     },
     "execution_count": 3,
     "metadata": {},
     "output_type": "execute_result"
    }
   ],
   "source": [
    "len(S)"
   ]
  },
  {
   "cell_type": "code",
   "execution_count": null,
   "metadata": {},
   "outputs": [],
   "source": []
  },
  {
   "cell_type": "markdown",
   "metadata": {},
   "source": [
    "# Model"
   ]
  },
  {
   "cell_type": "code",
   "execution_count": 4,
   "metadata": {},
   "outputs": [
    {
     "name": "stdout",
     "output_type": "stream",
     "text": [
      "Academic license - for non-commercial use only\n"
     ]
    }
   ],
   "source": [
    "m = Model(\"Ucar\")\n",
    "\n",
    "M = 9999999999999999999\n",
    "e = 0.00000000001\n",
    "v = {};\n",
    "alpha_p ={};\n",
    "alpha_m ={};\n",
    "beta_p ={};\n",
    "beta_m ={};\n",
    "vab={};\n",
    "for i in range(1, n+1):\n",
    "    for j in range(1,len(S)+1):\n",
    "        v[i,j] = m.addVar(vtype = 'B',name='v[%s,%s]'%(i,j));\n",
    "        alpha_p[i,j] = m.addVar(lb=0,vtype = 'S',name='alpha_p[%s,%s]'%(i,j));\n",
    "        alpha_m[i,j] = m.addVar(lb=0,vtype = 'S',name='alpha_m[%s,%s]'%(i,j));\n",
    "        beta_p[i,j] = m.addVar(lb=0,vtype = 'S',name='beta_p[%s,%s]'%(i,j));\n",
    "        beta_m[i,j] = m.addVar(lb=0,vtype = 'S',name='beta_m[%s,%s]'%(i,j));\n",
    "        vab[i,j] = m.addVar(lb=0,vtype = 'S',name='vab[%s,%s]'%(i,j));\n",
    "    \n",
    "        \n",
    "m.update()\n"
   ]
  },
  {
   "cell_type": "code",
   "execution_count": 5,
   "metadata": {},
   "outputs": [],
   "source": [
    "idx = 0\n",
    "for i in range(1, n+1):\n",
    "    for j in range(1,len(S)+1):\n",
    "        idx += 1;\n",
    "        m.addConstr( alpha_p[i,j]+alpha_m[i,j]+beta_p[i,j]+beta_m[i,j] - M*(1-v[i,j]) <= vab[i,j],'C1.1.%s'%idx);\n",
    "        m.addConstr( vab[i,j] <= alpha_p[i,j]+alpha_m[i,j]+beta_p[i,j]+beta_m[i,j] + M*(1-v[i,j]),'C1.2.%s'%idx);\n",
    "        m.addConstr( (-M)*v[i,j] <= vab[i,j],'C2.1.%s'%idx);\n",
    "        m.addConstr( vab[i,j] <= M*v[i,j],'C2.2.%s'%idx);\n",
    "\n",
    "        m.addConstr( alpha_p[i,j]-alpha_m[i,j] == abs(A[i-1][0]-S[j-1][0]),'C3.%s'%idx);\n",
    "        m.addConstr( beta_p[i,j]-beta_m[i,j] == abs(A[i-1][1]-S[j-1][1]),'C4.%s'%idx);\n",
    "        \n",
    "        m.addConstr( (-M)*v[i,j]+e<=alpha_p[i,j]+alpha_m[i,j]+beta_p[i,j]+beta_m[i,j]-r,'C5.1.%s'%idx);\n",
    "        m.addConstr( alpha_p[i,j]+alpha_m[i,j]+beta_p[i,j]+beta_m[i,j]-r<=M*(1-v[i,j])+e,'C5.2.%s'%idx);\n",
    "        \n",
    "for i in range(1,n+1):\n",
    "    m.addConstr( quicksum(v[i,j] for j in range(1,len(S)+1) )>=1, 'C6.%s'%idx);\n",
    "\n",
    "#m.addConstr( quicksum(v[i,j] for i in range(1,n+1) for j in range(1,len(S)+1) ) >=30, 'C6.%s'%idx);\n",
    "        \n",
    "        \n",
    "        \n",
    "m.setObjective(quicksum(weight[i-1]*quicksum(vab[i,j]for j in range(1,len(S)+1))for i in range(1,n+1)),GRB.MINIMIZE);\n",
    "\n",
    "\n"
   ]
  },
  {
   "cell_type": "code",
   "execution_count": 6,
   "metadata": {},
   "outputs": [
    {
     "name": "stdout",
     "output_type": "stream",
     "text": [
      "Optimize a model with 124956 rows, 93600 columns and 483600 nonzeros\n",
      "Variable types: 0 continuous, 15600 integer (15600 binary)\n",
      "Semi-Variable types: 78000 continuous, 0 integer\n",
      "Coefficient statistics:\n",
      "  Matrix range     [1e+00, 1e+19]\n",
      "  Objective range  [1e+00, 5e+00]\n",
      "  Bounds range     [1e+00, 1e+00]\n",
      "  RHS range        [1e-02, 1e+19]\n",
      "Warning: Model contains large matrix coefficient range\n",
      "Warning: Model contains large rhs\n",
      "         Consider reformulating model or setting NumericFocus parameter\n",
      "         to avoid numerical issues.\n",
      "Found heuristic solution: objective 0.0000000\n",
      "\n",
      "Explored 0 nodes (0 simplex iterations) in 0.08 seconds\n",
      "Thread count was 1 (of 4 available processors)\n",
      "\n",
      "Solution count 1: 0 \n",
      "\n",
      "Optimal solution found (tolerance 1.00e-04)\n",
      "Best objective 0.000000000000e+00, best bound 0.000000000000e+00, gap 0.0000%\n"
     ]
    }
   ],
   "source": [
    "m.optimize();"
   ]
  },
  {
   "cell_type": "markdown",
   "metadata": {},
   "source": [
    "# Result"
   ]
  },
  {
   "cell_type": "code",
   "execution_count": 7,
   "metadata": {
    "scrolled": true
   },
   "outputs": [
    {
     "name": "stdout",
     "output_type": "stream",
     "text": [
      "Runtime: 0.08981490135192871 \n",
      "\n",
      "Site 0 :  1    location(s)  at spot 16   distance:  807.1020833820651  m \n",
      "Site 1 :  1    location(s)  at spot 88   distance:  1326.6136327506  m \n",
      "Site 2 :  1    location(s)  at spot 17   distance:  1117.0275692658356  m \n",
      "Site 3 :  1    location(s)  at spot 43   distance:  817.4492549999356  m \n",
      "Site 4 :  1    location(s)  at spot 99   distance:  860.6796312216484  m \n",
      "Site 5 :  1    location(s)  at spot 83   distance:  113.55776151381215  m \n",
      "Site 6 :  1    location(s)  at spot 15   distance:  866.1078492314102  m \n",
      "Site 7 :  1    location(s)  at spot 18   distance:  49.17278617282354  m \n",
      "Site 8 :  1    location(s)  at spot 82   distance:  1030.561177465689  m \n",
      "Site 9 :  1    location(s)  at spot 99   distance:  892.3868392685936  m \n",
      "Site 10 :  1    location(s)  at spot 91   distance:  1005.3266233915805  m \n",
      "Site 11 :  1    location(s)  at spot 19   distance:  728.6639022897077  m \n",
      "Site 12 :  1    location(s)  at spot 46   distance:  0.21189620095977957  m \n",
      "Site 13 :  1    location(s)  at spot 15   distance:  148.0918701345217  m \n",
      "Site 14 :  1    location(s)  at spot 28   distance:  765.9964721849984  m \n",
      "Site 15 :  1    location(s)  at spot 15   distance:  375.6477196790257  m \n",
      "Site 16 :  1    location(s)  at spot 37   distance:  102.76716693561761  m \n",
      "Site 17 :  1    location(s)  at spot 28   distance:  1018.4949562960604  m \n",
      "Site 18 :  1    location(s)  at spot 30   distance:  827.706442224641  m \n",
      "Site 19 :  1    location(s)  at spot 13   distance:  601.290147765563  m \n",
      "Site 20 :  1    location(s)  at spot 15   distance:  73.65882228210174  m \n",
      "Site 21 :  1    location(s)  at spot 14   distance:  584.2453643804611  m \n",
      "Site 22 :  1    location(s)  at spot 30   distance:  891.6307399929583  m \n",
      "Site 23 :  1    location(s)  at spot 81   distance:  713.1252871689621  m \n",
      "Site 24 :  1    location(s)  at spot 19   distance:  1036.076240534412  m \n",
      "Site 25 :  1    location(s)  at spot 37   distance:  0.9767292358675314  m \n",
      "Site 26 :  1    location(s)  at spot 11   distance:  1219.2396099205657  m \n",
      "Site 27 :  1    location(s)  at spot 83   distance:  264.86124612707766  m \n",
      "Site 28 :  1    location(s)  at spot 30   distance:  421.97320258522353  m \n",
      "Site 29 :  1    location(s)  at spot 61   distance:  8.979248298254326  m \n",
      "Site 30 :  1    location(s)  at spot 43   distance:  863.6251541612587  m \n",
      "Site 31 :  1    location(s)  at spot 30   distance:  804.2082842770777  m \n",
      "Site 32 :  1    location(s)  at spot 43   distance:  899.1714221993424  m \n",
      "Site 33 :  1    location(s)  at spot 31   distance:  960.4509874536419  m \n",
      "Site 34 :  1    location(s)  at spot 19   distance:  954.3587009609446  m \n",
      "Site 35 :  1    location(s)  at spot 41   distance:  457.0656378464758  m \n",
      "Site 36 :  1    location(s)  at spot 86   distance:  348.0764841239913  m \n",
      "Site 37 :  1    location(s)  at spot 50   distance:  895.2653865755568  m \n",
      "Site 38 :  1    location(s)  at spot 60   distance:  717.9105677589605  m \n",
      "Site 39 :  1    location(s)  at spot 44   distance:  421.12960499113643  m \n",
      "Site 40 :  1    location(s)  at spot 64   distance:  611.7732034831455  m \n",
      "Site 41 :  1    location(s)  at spot 66   distance:  933.8826110383019  m \n",
      "Site 42 :  1    location(s)  at spot 65   distance:  399.66869592166955  m \n",
      "Site 43 :  1    location(s)  at spot 51   distance:  1072.2708586920326  m \n",
      "Site 44 :  1    location(s)  at spot 41   distance:  289.25779522774627  m \n",
      "Site 45 :  1    location(s)  at spot 98   distance:  487.6104695348745  m \n",
      "Site 46 :  1    location(s)  at spot 95   distance:  542.1104880924432  m \n",
      "Site 47 :  1    location(s)  at spot 92   distance:  232.26159239093613  m \n",
      "Site 48 :  1    location(s)  at spot 42   distance:  1040.565922371005  m \n",
      "Site 49 :  1    location(s)  at spot 50   distance:  772.4682728113435  m \n",
      "Site 50 :  1    location(s)  at spot 72   distance:  811.5858929897701  m \n",
      "Site 51 :  1    location(s)  at spot 50   distance:  780.456023745015  m \n",
      "Site 52 :  1    location(s)  at spot 98   distance:  232.46295403789958  m \n",
      "Site 53 :  1    location(s)  at spot 95   distance:  921.5896920540215  m \n",
      "Site 54 :  1    location(s)  at spot 98   distance:  823.6756583145149  m \n",
      "Site 55 :  1    location(s)  at spot 66   distance:  431.91708116244405  m \n",
      "Site 56 :  1    location(s)  at spot 41   distance:  580.2928062623417  m \n",
      "Site 57 :  1    location(s)  at spot 42   distance:  1049.120266223334  m \n",
      "Site 58 :  1    location(s)  at spot 44   distance:  467.2506190475625  m \n",
      "Site 59 :  1    location(s)  at spot 72   distance:  768.1568405603567  m \n",
      "Site 60 :  1    location(s)  at spot 72   distance:  611.778885055589  m \n",
      "Site 61 :  1    location(s)  at spot 45   distance:  300.2292257593481  m \n",
      "Site 62 :  1    location(s)  at spot 50   distance:  917.2545701711624  m \n",
      "Site 63 :  1    location(s)  at spot 53   distance:  1004.5539370784629  m \n",
      "Site 64 :  1    location(s)  at spot 53   distance:  1021.5474830860812  m \n",
      "Site 65 :  1    location(s)  at spot 53   distance:  1004.5539370784629  m \n",
      "Site 66 :  1    location(s)  at spot 46   distance:  70.27857283663741  m \n",
      "Site 67 :  1    location(s)  at spot 56   distance:  144.7899129773187  m \n",
      "Site 68 :  1    location(s)  at spot 53   distance:  3.8663807366995506  m \n",
      "Site 69 :  1    location(s)  at spot 4   distance:  718.4422641378131  m \n",
      "Site 70 :  1    location(s)  at spot 73   distance:  1068.2548012996403  m \n",
      "Site 71 :  1    location(s)  at spot 73   distance:  548.6477961314155  m \n",
      "Site 72 :  1    location(s)  at spot 43   distance:  890.8390594265429  m \n",
      "Site 73 :  1    location(s)  at spot 27   distance:  113.68286590336378  m \n",
      "Site 74 :  1    location(s)  at spot 2   distance:  975.3758779053176  m \n",
      "Site 75 :  1    location(s)  at spot 78   distance:  977.6449122252385  m \n",
      "Site 76 :  1    location(s)  at spot 20   distance:  840.1190078794556  m \n",
      "Site 77 :  1    location(s)  at spot 6   distance:  995.8528964160073  m \n",
      "Site 78 :  1    location(s)  at spot 89   distance:  801.3229294109681  m \n",
      "Site 79 :  1    location(s)  at spot 36   distance:  910.639938724444  m \n",
      "Site 80 :  1    location(s)  at spot 77   distance:  979.5167528940246  m \n",
      "Site 81 :  1    location(s)  at spot 35   distance:  643.5459020148382  m \n",
      "Site 82 :  1    location(s)  at spot 89   distance:  773.9213978177819  m \n",
      "Site 83 :  1    location(s)  at spot 78   distance:  1075.1550627231688  m \n",
      "Site 84 :  1    location(s)  at spot 36   distance:  823.83441813296  m \n",
      "Site 85 :  1    location(s)  at spot 82   distance:  370.0859517729797  m \n",
      "Site 86 :  1    location(s)  at spot 35   distance:  738.066241471657  m \n",
      "Site 87 :  1    location(s)  at spot 85   distance:  521.0705837984676  m \n",
      "Site 88 :  1    location(s)  at spot 20   distance:  673.2441753926387  m \n",
      "Site 89 :  1    location(s)  at spot 81   distance:  984.1546464351138  m \n",
      "Site 90 :  1    location(s)  at spot 18   distance:  863.5893931725548  m \n",
      "Site 91 :  1    location(s)  at spot 92   distance:  319.34622621853117  m \n",
      "Site 92 :  1    location(s)  at spot 86   distance:  278.96734307082187  m \n",
      "Site 93 :  1    location(s)  at spot 27   distance:  123.8614762545604  m \n",
      "Site 94 :  1    location(s)  at spot 2   distance:  130.49407726016648  m \n",
      "Site 95 :  1    location(s)  at spot 88   distance:  705.7390931498787  m \n",
      "Site 96 :  1    location(s)  at spot 81   distance:  609.5018378972413  m \n",
      "Site 97 :  1    location(s)  at spot 34   distance:  1001.0363726662019  m \n",
      "Site 98 :  1    location(s)  at spot 22   distance:  289.1094071454858  m \n",
      "Site 99 :  1    location(s)  at spot 19   distance:  564.7646880781558  m \n",
      "Site 100 :  1    location(s)  at spot 98   distance:  821.1301194086258  m \n",
      "Site 101 :  1    location(s)  at spot 66   distance:  273.6004042394601  m \n",
      "Site 102 :  1    location(s)  at spot 50   distance:  1049.0542552700576  m \n",
      "Site 103 :  1    location(s)  at spot 86   distance:  878.5044651564768  m \n",
      "Site 104 :  1    location(s)  at spot 95   distance:  527.3973406268235  m \n",
      "Site 105 :  1    location(s)  at spot 73   distance:  514.7731209960368  m \n",
      "Site 106 :  1    location(s)  at spot 20   distance:  647.0814082479085  m \n",
      "Site 107 :  1    location(s)  at spot 4   distance:  833.8771838824231  m \n",
      "Site 108 :  1    location(s)  at spot 5   distance:  170.40120422105792  m \n",
      "Site 109 :  1    location(s)  at spot 11   distance:  839.6080209836329  m \n",
      "Site 110 :  1    location(s)  at spot 79   distance:  654.812765987568  m \n",
      "Site 111 :  1    location(s)  at spot 35   distance:  202.2394155452179  m \n",
      "Site 112 :  1    location(s)  at spot 84   distance:  1019.3927636097853  m \n",
      "Site 113 :  1    location(s)  at spot 80   distance:  423.2559747955912  m \n",
      "Site 114 :  1    location(s)  at spot 34   distance:  13.476739219901429  m \n",
      "Site 115 :  1    location(s)  at spot 63   distance:  945.7085748261021  m \n",
      "Site 116 :  1    location(s)  at spot 16   distance:  1200.9390547815499  m \n",
      "Site 117 :  1    location(s)  at spot 93   distance:  1025.6023527663942  m \n",
      "Site 118 :  1    location(s)  at spot 80   distance:  756.9638634043114  m \n",
      "Site 119 :  1    location(s)  at spot 20   distance:  964.846902777899  m \n"
     ]
    },
    {
     "name": "stdout",
     "output_type": "stream",
     "text": [
      "Site 120 :  1    location(s)  at spot 89   distance:  855.723630210029  m \n",
      "Site 121 :  1    location(s)  at spot 19   distance:  1073.774884880438  m \n",
      "Site 122 :  1    location(s)  at spot 87   distance:  1050.2337100856741  m \n",
      "Site 123 :  1    location(s)  at spot 84   distance:  939.3025009016226  m \n",
      "Site 124 :  1    location(s)  at spot 24   distance:  910.055089376239  m \n",
      "Site 125 :  1    location(s)  at spot 19   distance:  766.3428718922894  m \n",
      "Site 126 :  1    location(s)  at spot 22   distance:  922.4492182228421  m \n",
      "Site 127 :  1    location(s)  at spot 29   distance:  1.4751271131327692  m \n",
      "Site 128 :  1    location(s)  at spot 93   distance:  926.1084238899656  m \n",
      "Site 129 :  1    location(s)  at spot 71   distance:  1.5592626465139978  m \n",
      "Site 130 :  1    location(s)  at spot 93   distance:  534.9978490610185  m \n",
      "Site 131 :  1    location(s)  at spot 94   distance:  697.8824434675647  m \n",
      "Site 132 :  1    location(s)  at spot 23   distance:  8.53696081747883  m \n",
      "Site 133 :  1    location(s)  at spot 73   distance:  1.6530275255105285  m \n",
      "Site 134 :  1    location(s)  at spot 26   distance:  0.1104536100428661  m \n",
      "Site 135 :  1    location(s)  at spot 38   distance:  518.2659453407141  m \n",
      "Site 136 :  1    location(s)  at spot 3   distance:  893.5359688898369  m \n",
      "Site 137 :  1    location(s)  at spot 57   distance:  1023.4601997636938  m \n",
      "Site 138 :  1    location(s)  at spot 58   distance:  1029.5195913629423  m \n",
      "Site 139 :  1    location(s)  at spot 76   distance:  2.042008814860837  m \n",
      "Site 140 :  1    location(s)  at spot 17   distance:  659.5667020854213  m \n",
      "Site 141 :  1    location(s)  at spot 37   distance:  725.4367749845443  m \n",
      "Site 142 :  1    location(s)  at spot 86   distance:  874.6422185672425  m \n",
      "Site 143 :  1    location(s)  at spot 79   distance:  565.7150296749379  m \n",
      "Site 144 :  1    location(s)  at spot 62   distance:  288.2359417213435  m \n",
      "Site 145 :  1    location(s)  at spot 82   distance:  403.6369761305268  m \n",
      "Site 146 :  1    location(s)  at spot 85   distance:  1.4286357129934022  m \n",
      "Site 147 :  1    location(s)  at spot 97   distance:  983.3054528477167  m \n",
      "Site 148 :  1    location(s)  at spot 65   distance:  471.79807587557684  m \n",
      "Site 149 :  1    location(s)  at spot 51   distance:  484.4090073481236  m \n",
      "Site 150 :  1    location(s)  at spot 40   distance:  146.6528724574224  m \n",
      "Site 151 :  1    location(s)  at spot 92   distance:  53.533590389381644  m \n",
      "Site 152 :  1    location(s)  at spot 96   distance:  474.317029000545  m \n",
      "Site 153 :  1    location(s)  at spot 54   distance:  13.097060739160124  m \n",
      "Site 154 :  1    location(s)  at spot 32   distance:  8.959252201024537  m \n",
      "Site 155 :  1    location(s)  at spot 55   distance:  4.58259751665986  m \n",
      "\n",
      " all locations:  100\n",
      "locations have been selected: 77 \n",
      "\n"
     ]
    }
   ],
   "source": [
    "if m.status == GRB.Status.INFEASIBLE:\n",
    "    print(\"INFEASIBLE\")\n",
    "    \n",
    "else:\n",
    "\n",
    "    print(\"Runtime:\",m.Runtime,\"\\n\")\n",
    "\n",
    "    loc_ctr=[] #count for how many locations have been selected\n",
    "    \n",
    "    p=0\n",
    "    for i in range(1,n+1):\n",
    "        ctr=0\n",
    "        for j in range(1,len(S)+1):\n",
    "            if v[i,j].x > 0:\n",
    "                ctr=ctr+1\n",
    "                p=j\n",
    "                loc_ctr.append(p)\n",
    "                \n",
    "                x1 = A[i-1][0]\n",
    "                y1 = A[i-1][1]\n",
    "                x2 = S[p-1][0]\n",
    "                y2 = S[p-1][1]\n",
    "                \n",
    "                math.sqrt((x1-x2)**2+(y1-y2)**2)\n",
    "                print(\"Site\", i-1 , \": \" , ctr, \"   location(s)  at spot\",p-1 , \"  distance: \", math.sqrt((x1-x2)**2+(y1-y2)**2) , \" m \")\n",
    "\n",
    "    print(\"\\n\",\"all locations: \",len(S));      \n",
    "    print(\"locations have been selected:\",len(set(loc_ctr)),\"\\n\");   \n",
    "\n",
    "        "
   ]
  },
  {
   "cell_type": "code",
   "execution_count": null,
   "metadata": {},
   "outputs": [],
   "source": []
  },
  {
   "cell_type": "markdown",
   "metadata": {},
   "source": [
    "# find err\n"
   ]
  },
  {
   "cell_type": "code",
   "execution_count": 8,
   "metadata": {},
   "outputs": [],
   "source": [
    "if m.status == GRB.Status.INFEASIBLE:\n",
    "        print('Optimization was stopped with status %d' % m.status)\n",
    "        # do IIS, find infeasible constraints\n",
    "        m.computeIIS()\n",
    "        for c in m.getConstrs():\n",
    "            if c.IISConstr:\n",
    "                print('%s' % c.constrName)\n"
   ]
  },
  {
   "cell_type": "code",
   "execution_count": null,
   "metadata": {},
   "outputs": [],
   "source": []
  },
  {
   "cell_type": "code",
   "execution_count": null,
   "metadata": {},
   "outputs": [],
   "source": []
  },
  {
   "cell_type": "code",
   "execution_count": null,
   "metadata": {},
   "outputs": [],
   "source": []
  },
  {
   "cell_type": "code",
   "execution_count": null,
   "metadata": {},
   "outputs": [],
   "source": []
  }
 ],
 "metadata": {
  "kernelspec": {
   "display_name": "Python 3",
   "language": "python",
   "name": "python3"
  },
  "language_info": {
   "codemirror_mode": {
    "name": "ipython",
    "version": 3
   },
   "file_extension": ".py",
   "mimetype": "text/x-python",
   "name": "python",
   "nbconvert_exporter": "python",
   "pygments_lexer": "ipython3",
   "version": "3.6.7"
  }
 },
 "nbformat": 4,
 "nbformat_minor": 2
}
